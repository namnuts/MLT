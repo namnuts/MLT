{
  "nbformat": 4,
  "nbformat_minor": 0,
  "metadata": {
    "colab": {
      "provenance": []
    },
    "kernelspec": {
      "name": "python3",
      "display_name": "Python 3"
    },
    "language_info": {
      "name": "python"
    }
  },
  "cells": [
    {
      "cell_type": "markdown",
      "source": [
        "**3.SIMPLE CALCULATIONS IN PYTHON**"
      ],
      "metadata": {
        "id": "tTGdS9NMZQ3X"
      }
    },
    {
      "cell_type": "code",
      "execution_count": 4,
      "metadata": {
        "colab": {
          "base_uri": "https://localhost:8080/"
        },
        "id": "_CshR2iIZAdL",
        "outputId": "8056ecae-4762-43d5-9ab2-b058d888ef2c"
      },
      "outputs": [
        {
          "output_type": "stream",
          "name": "stdout",
          "text": [
            "40\n"
          ]
        }
      ],
      "source": [
        "#addition\n",
        "\n",
        "a = 35\n",
        "b = 5\n",
        "print(a+b)"
      ]
    },
    {
      "cell_type": "code",
      "source": [
        "#subtraction\n",
        "\n",
        "a = 35\n",
        "b = 5\n",
        "print(a-b)\n"
      ],
      "metadata": {
        "colab": {
          "base_uri": "https://localhost:8080/"
        },
        "id": "RGepoKroZ6lM",
        "outputId": "b064a094-3358-4a0d-afdd-98f1c246390e"
      },
      "execution_count": 2,
      "outputs": [
        {
          "output_type": "stream",
          "name": "stdout",
          "text": [
            "30\n"
          ]
        }
      ]
    },
    {
      "cell_type": "code",
      "source": [
        "#multiplication\n",
        "\n",
        "a = 35\n",
        "b = 5\n",
        "print(a*b)\n",
        "\n"
      ],
      "metadata": {
        "colab": {
          "base_uri": "https://localhost:8080/"
        },
        "id": "fzseGGk4aEEr",
        "outputId": "983f217d-3e84-447d-8406-23644f074989"
      },
      "execution_count": 6,
      "outputs": [
        {
          "output_type": "stream",
          "name": "stdout",
          "text": [
            "175\n"
          ]
        }
      ]
    },
    {
      "cell_type": "code",
      "source": [
        "#divide\n",
        "\n",
        "print(a/b)"
      ],
      "metadata": {
        "colab": {
          "base_uri": "https://localhost:8080/"
        },
        "id": "b5F8-o9daNKl",
        "outputId": "ee551c57-066c-4a9c-882e-adf7261a6d49"
      },
      "execution_count": 7,
      "outputs": [
        {
          "output_type": "stream",
          "name": "stdout",
          "text": [
            "7.0\n"
          ]
        }
      ]
    },
    {
      "cell_type": "code",
      "source": [
        "#divide\n",
        "a1 = 37\n",
        "b1 = 5\n",
        "print(a1/b1)"
      ],
      "metadata": {
        "colab": {
          "base_uri": "https://localhost:8080/"
        },
        "id": "jFQBwctPacOG",
        "outputId": "1d47190d-a0c9-4c76-b93b-ef9fd601d667"
      },
      "execution_count": 10,
      "outputs": [
        {
          "output_type": "stream",
          "name": "stdout",
          "text": [
            "7.4\n"
          ]
        }
      ]
    },
    {
      "cell_type": "code",
      "source": [
        "#finding remainder # using modulo\n",
        "a1 = 37\n",
        "b1 = 5\n",
        "print(a1%b1)"
      ],
      "metadata": {
        "colab": {
          "base_uri": "https://localhost:8080/"
        },
        "id": "I5nE8949beM9",
        "outputId": "c77a65a4-e99f-4d7b-b8b9-8a30387d4eee"
      },
      "execution_count": 12,
      "outputs": [
        {
          "output_type": "stream",
          "name": "stdout",
          "text": [
            "2\n"
          ]
        }
      ]
    },
    {
      "cell_type": "code",
      "source": [
        "#purpose of floor division\n",
        "print(a1//b1)\n",
        "#floor division gives quotient when we divide a number by other."
      ],
      "metadata": {
        "colab": {
          "base_uri": "https://localhost:8080/"
        },
        "id": "R1zovHVQc-1y",
        "outputId": "085581a3-022c-41c6-acd5-0985f6092273"
      },
      "execution_count": 17,
      "outputs": [
        {
          "output_type": "stream",
          "name": "stdout",
          "text": [
            "7\n"
          ]
        }
      ]
    },
    {
      "cell_type": "code",
      "source": [
        "#exponent of number # calculating square , cube , quadrapule\n",
        "x = 2\n",
        "power = 3\n",
        "print(x**power)\n",
        "#the expression x**power gives cube of the number 2\n",
        "print(power**x)\n",
        "#this expression power**x gives square of three."
      ],
      "metadata": {
        "colab": {
          "base_uri": "https://localhost:8080/"
        },
        "id": "Kujkb7XDavRu",
        "outputId": "69e73392-a604-4b2e-864a-0b9d6e72680b"
      },
      "execution_count": 16,
      "outputs": [
        {
          "output_type": "stream",
          "name": "stdout",
          "text": [
            "8\n",
            "9\n"
          ]
        }
      ]
    },
    {
      "cell_type": "markdown",
      "source": [
        "**BUILT-IN FUNCTIONS**"
      ],
      "metadata": {
        "id": "kesHYx2cdul6"
      }
    },
    {
      "cell_type": "code",
      "source": [
        "hex(1024)\n"
      ],
      "metadata": {
        "colab": {
          "base_uri": "https://localhost:8080/",
          "height": 35
        },
        "id": "u4-rp_b6ayy_",
        "outputId": "b12edb8a-b1ce-428b-e343-c73275292c8c"
      },
      "execution_count": 18,
      "outputs": [
        {
          "output_type": "execute_result",
          "data": {
            "text/plain": [
              "'0x400'"
            ],
            "application/vnd.google.colaboratory.intrinsic+json": {
              "type": "string"
            }
          },
          "metadata": {},
          "execution_count": 18
        }
      ]
    },
    {
      "cell_type": "code",
      "source": [
        "bin(1024)"
      ],
      "metadata": {
        "colab": {
          "base_uri": "https://localhost:8080/",
          "height": 35
        },
        "id": "3dORRE42aucK",
        "outputId": "33ad08a3-f607-4543-afbd-4a897270e869"
      },
      "execution_count": 19,
      "outputs": [
        {
          "output_type": "execute_result",
          "data": {
            "text/plain": [
              "'0b10000000000'"
            ],
            "application/vnd.google.colaboratory.intrinsic+json": {
              "type": "string"
            }
          },
          "metadata": {},
          "execution_count": 19
        }
      ]
    },
    {
      "cell_type": "code",
      "source": [
        "(20.0+4)/6"
      ],
      "metadata": {
        "colab": {
          "base_uri": "https://localhost:8080/"
        },
        "id": "U30_DDDqd5Ob",
        "outputId": "1346124c-b9c1-46a4-e1ce-fd754dc5480b"
      },
      "execution_count": 20,
      "outputs": [
        {
          "output_type": "execute_result",
          "data": {
            "text/plain": [
              "4.0"
            ]
          },
          "metadata": {},
          "execution_count": 20
        }
      ]
    },
    {
      "cell_type": "code",
      "source": [
        "(2+3)/5\n"
      ],
      "metadata": {
        "colab": {
          "base_uri": "https://localhost:8080/"
        },
        "id": "NlgEVRPHeCym",
        "outputId": "bf8fca8a-7537-46d4-c4bd-806a103db52d"
      },
      "execution_count": 21,
      "outputs": [
        {
          "output_type": "execute_result",
          "data": {
            "text/plain": [
              "1.0"
            ]
          },
          "metadata": {},
          "execution_count": 21
        }
      ]
    },
    {
      "cell_type": "code",
      "source": [
        "2+3/5\n",
        "\n",
        "#keeping brackets at right position is essential just like we do in math.#BODMAS rule."
      ],
      "metadata": {
        "colab": {
          "base_uri": "https://localhost:8080/"
        },
        "id": "aOGPlNzQe_1u",
        "outputId": "12ecdae4-b4d6-4bf8-e169-c53067529b15"
      },
      "execution_count": 22,
      "outputs": [
        {
          "output_type": "execute_result",
          "data": {
            "text/plain": [
              "2.6"
            ]
          },
          "metadata": {},
          "execution_count": 22
        }
      ]
    },
    {
      "cell_type": "code",
      "source": [],
      "metadata": {
        "id": "0OBnfWt5fEPY"
      },
      "execution_count": null,
      "outputs": []
    },
    {
      "cell_type": "markdown",
      "source": [
        "**4.USING VARIABLES and KEYWORDS**"
      ],
      "metadata": {
        "id": "tNMIfdSYgnkW"
      }
    },
    {
      "cell_type": "code",
      "source": [
        "from types import new_class\n",
        "m = 123.456\n",
        "n = 345.679\n",
        "print(m+n)\n",
        "print(m-n)\n",
        "\n"
      ],
      "metadata": {
        "colab": {
          "base_uri": "https://localhost:8080/"
        },
        "id": "DsclXxSdhCBZ",
        "outputId": "e658c3a4-a510-4653-f20d-b5bf5dfc767d"
      },
      "execution_count": 27,
      "outputs": [
        {
          "output_type": "stream",
          "name": "stdout",
          "text": [
            "469.135\n",
            "-222.22299999999996\n"
          ]
        }
      ]
    },
    {
      "cell_type": "code",
      "source": [
        "m1= 2.2\n",
        "n1 = 2\n",
        "m1**n1"
      ],
      "metadata": {
        "colab": {
          "base_uri": "https://localhost:8080/"
        },
        "id": "1caAUZxnh4Q6",
        "outputId": "77315344-e9df-4257-a637-b323bb24d9b7"
      },
      "execution_count": 28,
      "outputs": [
        {
          "output_type": "execute_result",
          "data": {
            "text/plain": [
              "4.840000000000001"
            ]
          },
          "metadata": {},
          "execution_count": 28
        }
      ]
    }
  ]
}